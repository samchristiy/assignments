{
 "cells": [
  {
   "cell_type": "code",
   "execution_count": 1,
   "metadata": {},
   "outputs": [
    {
     "name": "stdout",
     "output_type": "stream",
     "text": [
      "[ 2  5  8 11 14 17 20 23 26 29 32 35 38 41 44 47]\n"
     ]
    }
   ],
   "source": [
    "#question 1\n",
    "\n",
    "import numpy as np\n",
    "\n",
    "arr = np.arange(2, 50, 3)\n",
    "\n",
    "print(arr)"
   ]
  },
  {
   "cell_type": "code",
   "execution_count": null,
   "metadata": {},
   "outputs": [],
   "source": [
    "#question 2\n",
    "import numpy as np\n",
    "\n",
    "\n",
    "lst_1 = []\n",
    "lst_2 = []\n",
    "\n",
    "\n",
    "for i in range(5):\n",
    "  x=int(input(\"\\nEnter the value for lst_1 : \"))\n",
    "  lst_1.append(x)\n",
    "\n",
    "\n",
    "for i in range(5):\n",
    "  x=int(input(\"\\nEnter the value for lst_2 : \"))\n",
    "  lst_2.append(x)\n",
    "\n",
    "arr_1 = np.array(lst_1)\n",
    "arr_2 = np.array(lst_2)\n",
    "\n",
    "\n",
    "arr = np.concatenate((arr_1, arr_2))\n",
    "print(\"\\nArray value for concatenated arr :\",arr)\n",
    "\n",
    "\n",
    "sortArr = np.sort(arr)\n",
    "print(\"\\nSorted Array for concatenated arr :\",sortArr)"
   ]
  },
  {
   "cell_type": "code",
   "execution_count": null,
   "metadata": {},
   "outputs": [],
   "source": [
    "#queston 3\n",
    "import numpy as np\n",
    "\n",
    "\n",
    "lst_1 = []\n",
    "lst_2 = []\n",
    "\n",
    "\n",
    "for i in range(5):\n",
    "  x=int(input(\"\\nEnter the value for lst_1 : \"))\n",
    "  lst_1.append(x)\n",
    "\n",
    "\n",
    "for i in range(5):\n",
    "  x=int(input(\"\\nEnter the value for lst_2 : \"))\n",
    "  lst_2.append(x)\n",
    "\n",
    "\n",
    "arr_1 = np.array(lst_1)\n",
    "arr_2 = np.array(lst_2)\n",
    "\n",
    "\n",
    "arr = np.concatenate((arr_1, arr_2))\n",
    "print(\"\\nArray value for concatenated arr :\",arr)\n",
    "\n",
    "\n",
    "sortArr = np.sort(arr)\n",
    "print(\"\\nSorted Array for concatenated arr :\",sortArr)"
   ]
  },
  {
   "cell_type": "code",
   "execution_count": null,
   "metadata": {},
   "outputs": [],
   "source": [
    "#question 4\n",
    "import numpy as np\n",
    "\n",
    "arr = np.arange(10)\n",
    "print(\"\\nShape of Array :\",arr.shape)\n",
    "\n",
    "\n",
    "row_arr = arr[np.newaxis, :]\n",
    "print(\"\\nShape of 2d Array in row major :\",row_arr.shape)\n",
    "\n",
    "col_arr = arr[:, np.newaxis]\n",
    "print(\"\\nShape of 2d Array in column major :\",col_arr.shape)"
   ]
  },
  {
   "cell_type": "code",
   "execution_count": null,
   "metadata": {},
   "outputs": [],
   "source": [
    "#question 5\n",
    "import numpy as np\n",
    "\n",
    "\n",
    "arr_1 = np.square([1, 2, 3, 4, 5])\n",
    "arr_2 = np.square([6, 7, 8, 9, 10])\n",
    "\n",
    "\n",
    "print(\"\\nHorizontal Append :\", np.hstack((arr_1, arr_2)))\n",
    "print(\"\\nVertical Append :\", np.vstack((arr_1, arr_2)))"
   ]
  },
  {
   "cell_type": "code",
   "execution_count": null,
   "metadata": {},
   "outputs": [],
   "source": [
    "#question 6\n",
    "import numpy as np\n",
    "\n",
    "\n",
    "arr_1 = np.array([1, 4, 9, 16, 25, 1, 4, 2, 3, 2, 5, 6, 5, 7, 8, 10])\n",
    "\n",
    "\n",
    "unique, counts = np.unique(arr_1, return_counts=True)\n",
    "\n",
    "\n",
    "arr = np.asarray((unique, counts)).T\n",
    "\n",
    "print(arr)"
   ]
  }
 ],
 "metadata": {
  "kernelspec": {
   "display_name": "Python 3",
   "language": "python",
   "name": "python3"
  },
  "language_info": {
   "codemirror_mode": {
    "name": "ipython",
    "version": 3
   },
   "file_extension": ".py",
   "mimetype": "text/x-python",
   "name": "python",
   "nbconvert_exporter": "python",
   "pygments_lexer": "ipython3",
   "version": "3.8.3"
  }
 },
 "nbformat": 4,
 "nbformat_minor": 4
}
